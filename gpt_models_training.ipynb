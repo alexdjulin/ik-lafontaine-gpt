{
 "cells": [
  {
   "cell_type": "markdown",
   "metadata": {},
   "source": [
    "# Model 1"
   ]
  },
  {
   "cell_type": "code",
   "execution_count": 16,
   "metadata": {},
   "outputs": [
    {
     "name": "stdout",
     "output_type": "stream",
     "text": [
      "step 0: train loss 4.9885, val loss 4.9860\n",
      "step 300: train loss 2.7977, val loss 2.7646\n",
      "step 600: train loss 2.4762, val loss 2.4522\n",
      "step 900: train loss 2.4259, val loss 2.3940\n",
      "step 1200: train loss 2.4031, val loss 2.3835\n",
      "step 1500: train loss 2.3880, val loss 2.3679\n",
      "step 1800: train loss 2.3853, val loss 2.3630\n",
      "step 2100: train loss 2.3832, val loss 2.3704\n",
      "step 2400: train loss 2.3841, val loss 2.3580\n",
      "step 2700: train loss 2.3829, val loss 2.3569\n",
      "\n",
      "Étoux le duiferembes l re, de paceurandrder laicouiP, à d'e acocrts au dasôt y teun predeu fisutechgèrue ut SEntent caut t ppinaret'éprrhale le ai pau quloute\n",
      "Li lungavarieli ost HOueturGEnes l.\n",
      "Ile s paisingume me osomounsœRome, voute e panes es delets.\n",
      "« À- éoutres nt prstanoiroiméntt ot ait es, nter Y,\n",
      "On Rout sele.\n",
      "Ill'up de utte e ques'aimis, mpraunt li\n",
      "Qus crarieuns té vraue\n",
      "RD ! pon mmmis contre salâce\n",
      "Sunfin Tr prund,\n",
      "Mentésured'ain\n",
      "Sufas ese.\n",
      "Et pourerle e l t cuces\n",
      "CIS, de,\n",
      "Len ù ez-me\n"
     ]
    }
   ],
   "source": [
    "%run 1_bigram_no_attention.py"
   ]
  },
  {
   "cell_type": "markdown",
   "metadata": {},
   "source": [
    "# Model 2"
   ]
  },
  {
   "cell_type": "code",
   "execution_count": 17,
   "metadata": {},
   "outputs": [
    {
     "name": "stdout",
     "output_type": "stream",
     "text": [
      "step 0: train loss 4.5277, val loss 4.5320\n",
      "step 500: train loss 2.6327, val loss 2.5937\n",
      "step 1000: train loss 2.4514, val loss 2.4033\n",
      "step 1500: train loss 2.4004, val loss 2.3742\n",
      "step 2000: train loss 2.3629, val loss 2.3395\n",
      "step 2500: train loss 2.3499, val loss 2.3256\n",
      "step 3000: train loss 2.3437, val loss 2.3302\n",
      "step 3500: train loss 2.3341, val loss 2.3025\n",
      "step 4000: train loss 2.3269, val loss 2.2966\n",
      "step 4500: train loss 2.3005, val loss 2.2898\n",
      "\n",
      "Étès d'enduire ?\n",
      "Les Pure, de paitaire Bder laicoui p.\n",
      "Touncococres au dasôt y teun pred e fis,\n",
      "«\n",
      "Agèrotint len havicau Ân ppinar.\n",
      "As se ale lelain lonetaile de. luagavariels ost HOneturs Eve lait nos aursi aume me osomouns er-moine. ene paamades dile sont Àle outres neurés anilauiméntes tare paimonter ous n'adu Celle.\n",
      "Ià mop freut EUn gens'aime dés.\n",
      "Au,\n",
      "UTE\n",
      "Quint paieuxsaté vrau ;\n",
      "D biron memis contre samin Qu'uitaisr pru Le tentésured'ain\n",
      "Ecfacoute.\n",
      "Et Monderle eplu ceu :\n",
      "T Su, de,\n",
      "'en ù ez-ét\n"
     ]
    }
   ],
   "source": [
    "%run 2_bigram_singlehead_attention.py"
   ]
  },
  {
   "cell_type": "markdown",
   "metadata": {},
   "source": [
    "# Model 3"
   ]
  },
  {
   "cell_type": "code",
   "execution_count": 18,
   "metadata": {},
   "outputs": [
    {
     "name": "stdout",
     "output_type": "stream",
     "text": [
      "step 0: train loss 4.5420, val loss 4.5408\n",
      "step 500: train loss 2.6584, val loss 2.6222\n",
      "step 1000: train loss 2.4952, val loss 2.4456\n",
      "step 1500: train loss 2.3984, val loss 2.3730\n",
      "step 2000: train loss 2.3335, val loss 2.3117\n",
      "step 2500: train loss 2.2990, val loss 2.2797\n",
      "step 3000: train loss 2.2811, val loss 2.2743\n",
      "step 3500: train loss 2.2639, val loss 2.2405\n",
      "step 4000: train loss 2.2491, val loss 2.2228\n",
      "step 4500: train loss 2.2218, val loss 2.2169\n",
      "\n",
      "Étère le buiferembeant le, de paceurandrde figent iu,. mous acocres au dasôt yotrandu du safioutrchgèmoient lentique aut tart nar.\n",
      "Séprrhale le ain lourfais, de. luagavarielquos à pout à dien cret noin sauingume me osom fait pou, et. Le soures es dill'ait nompéoutres neuréstanitafiméest lonafoprimént rai,\n",
      "On Rema sela.\n",
      "Il col freut EUn Le l'ait s'és.\n",
      "Au,\n",
      "Uu dirs crarteuxs, A s'au l'a biense mils contre.\n",
      "Ves fieun tais, etun ettentésure.\n",
      "Il coufacoute.\n",
      "Et poure le eplue cocequi un ditere, chez.\n",
      "J\n"
     ]
    }
   ],
   "source": [
    "%run 3_bigram_multihead_attention.py"
   ]
  },
  {
   "cell_type": "markdown",
   "metadata": {},
   "source": [
    "# Model 4"
   ]
  },
  {
   "cell_type": "code",
   "execution_count": 19,
   "metadata": {},
   "outputs": [
    {
     "name": "stdout",
     "output_type": "stream",
     "text": [
      "step 0: train loss 4.4294, val loss 4.4268\n",
      "step 500: train loss 2.6560, val loss 2.6180\n",
      "step 1000: train loss 2.4693, val loss 2.4306\n",
      "step 1500: train loss 2.3747, val loss 2.3543\n",
      "step 2000: train loss 2.3072, val loss 2.2909\n",
      "step 2500: train loss 2.2717, val loss 2.2597\n",
      "step 3000: train loss 2.2511, val loss 2.2502\n",
      "step 3500: train loss 2.2349, val loss 2.2154\n",
      "step 4000: train loss 2.2236, val loss 2.1946\n",
      "step 4500: train loss 2.1829, val loss 2.1924\n",
      "\n",
      "Étour le bui ent chan con, de pachais dret le Centi p.\n",
      "Toun acocres au dasôt yetrand deu safis,\n",
      "Pche coteut le ne vocart nartinar.\n",
      "As se Cais téains le faiste\n",
      "Li luignez nelquost Hen furs nes la ténos-plus-naume me oun ques commois,\n",
      "Te en da sens là l'ait nagnéout l'un Bhéscanila n'énit-ot ait ent nont l'ern tout sell.\n",
      "Ià l'e freut en liens que s'és.\n",
      "Au » Pil gin darteuxs té s'au lin bien pren sla grie.\n",
      "Des fis ?\n",
      "La Tr pruble tentésont.\n",
      "In courss ent l'il vaillle es ne con qui un de ent pre !\n",
      "Ne\n"
     ]
    }
   ],
   "source": [
    "%run 4_bigram_feedforward.py"
   ]
  },
  {
   "cell_type": "markdown",
   "metadata": {},
   "source": [
    "# Model 5"
   ]
  },
  {
   "cell_type": "code",
   "execution_count": 20,
   "metadata": {},
   "outputs": [
    {
     "name": "stdout",
     "output_type": "stream",
     "text": [
      "step 0: train loss 4.4372, val loss 4.4368\n",
      "step 500: train loss 3.0828, val loss 3.0455\n",
      "step 1000: train loss 2.7592, val loss 2.7150\n",
      "step 1500: train loss 2.6426, val loss 2.6156\n",
      "step 2000: train loss 2.5305, val loss 2.5092\n",
      "step 2500: train loss 2.4618, val loss 2.4538\n",
      "step 3000: train loss 2.4143, val loss 2.3904\n",
      "step 3500: train loss 2.3713, val loss 2.3597\n",
      "step 4000: train loss 2.3633, val loss 2.3438\n",
      "step 4500: train loss 2.3340, val loss 2.3030\n",
      "\n",
      "Caus d'entniéeremebanl les de paclairnerder laicètiu,. moun acocrjont qu'illayttennez-yd enfioctechhanuteuts ennent cart tout nartét, srhale le am pau quaile dei lungavarnelquont Henlours nes crétén sras sinaumer sroun ques enle, en tene pants est que sout nantoutres neurés anliafimtent otnre poit nonr l'eun tout seld.\n",
      "Il mop freut en lie l'at dé, maitant li\n",
      "Dis crarteunsété srau ;\n",
      "D'u ponpremis contre samlhiteunt au rûercen,\n",
      "Mentése.\n",
      "Quaicancfas ent aut pourerle eplutécucequn un dett en chez él\n"
     ]
    }
   ],
   "source": [
    "%run 5_bigram_transformer_block.py"
   ]
  },
  {
   "cell_type": "markdown",
   "metadata": {},
   "source": [
    "# Model 6"
   ]
  },
  {
   "cell_type": "code",
   "execution_count": 22,
   "metadata": {},
   "outputs": [
    {
     "name": "stdout",
     "output_type": "stream",
     "text": [
      "step 0: train loss 4.9070, val loss 4.9088\n",
      "step 500: train loss 2.3482, val loss 2.3297\n",
      "step 1000: train loss 2.2040, val loss 2.1800\n",
      "step 1500: train loss 2.1230, val loss 2.1119\n",
      "step 2000: train loss 2.0941, val loss 2.0778\n",
      "step 2500: train loss 2.0650, val loss 2.0491\n",
      "step 3000: train loss 2.0226, val loss 2.0433\n",
      "step 3500: train loss 2.0146, val loss 2.0175\n",
      "step 4000: train loss 1.9735, val loss 1.9867\n",
      "step 4500: train loss 1.9712, val loss 1.9728\n",
      "\n",
      "Étoir le bulée ?\n",
      "Les Proches Les tait de troire,\n",
      "Le Conte,\n",
      "Cacce\n",
      "Non me cettre teux prideu fille croyeutes semps.\n",
      "Et aut tout nard'osprehâte et péroup quelle de la convaquelquoit Heulours ExTil.\n",
      "Il que ses deumer seouve ense ale, et tremendams est celuse :\n",
      "Mait quelque un sangeir impeit-on aforne, nour les rit faisile.\n",
      "Il mon frit. Et lieux attes,\n",
      "Lai ment, dirs de queuis, étrita lin ! point mis consire,\n",
      "On fille taisre-du,\n",
      "Et de cus Éd'ain\n",
      "Sufait le frière\n",
      "Marle est tout que lui de t'en chez-mê\n"
     ]
    }
   ],
   "source": [
    "%run 6_bigram_residual_block.py"
   ]
  },
  {
   "cell_type": "markdown",
   "metadata": {},
   "source": [
    "# Model 7"
   ]
  },
  {
   "cell_type": "code",
   "execution_count": 23,
   "metadata": {},
   "outputs": [
    {
     "name": "stdout",
     "output_type": "stream",
     "text": [
      "step 0: train loss 4.6370, val loss 4.6403\n",
      "step 500: train loss 2.3540, val loss 2.3290\n",
      "step 1000: train loss 2.2057, val loss 2.1787\n",
      "step 1500: train loss 2.1206, val loss 2.1085\n",
      "step 2000: train loss 2.0873, val loss 2.0668\n",
      "step 2500: train loss 2.0467, val loss 2.0290\n",
      "step 3000: train loss 2.0064, val loss 2.0249\n",
      "step 3500: train loss 1.9982, val loss 2.0010\n",
      "step 4000: train loss 1.9637, val loss 1.9722\n",
      "step 4500: train loss 1.9573, val loss 1.9606\n",
      "\n",
      "Ceux d'eux les embean com, de pais mandre, engeauxir,.\n",
      "Touffienc\n",
      "Nontre astons tend prodeu fin,\n",
      "Ecigneutes serfin, courd tâpps\n",
      "Mes véprihale et s'en des au beau. »\n",
      "Le ES Et quoit Hou furs Evec det nos-ne sentume !\n",
      "Dout ques commoin,\n",
      "Te mépans des dit voire au quatres ne promantir impeste toufforcennont ou voir faiselle dà cop de chon est jour, dé, et la trés\n",
      "Qui craqueune té vrauvain ! point mis contre sa chins ?\n",
      "La Trandu,\n",
      "Il de cuserd'ain\n",
      "Suracoute.\n",
      "Et fourdelq et ne combanneur de t'en chez-ét\n"
     ]
    }
   ],
   "source": [
    "%run 7_bigram_layernorm.py"
   ]
  },
  {
   "cell_type": "markdown",
   "metadata": {},
   "source": [
    "# Model 8"
   ]
  },
  {
   "cell_type": "code",
   "execution_count": 24,
   "metadata": {},
   "outputs": [
    {
     "name": "stdout",
     "output_type": "stream",
     "text": [
      "step 0: train loss 4.7496, val loss 4.7491\n",
      "step 500: train loss 2.0527, val loss 2.0570\n",
      "step 1000: train loss 1.6178, val loss 1.6720\n",
      "step 1500: train loss 1.4053, val loss 1.5213\n",
      "step 2000: train loss 1.2541, val loss 1.4661\n",
      "step 2500: train loss 1.1126, val loss 1.4515\n",
      "step 3000: train loss 0.9553, val loss 1.4966\n",
      "step 3500: train loss 0.7890, val loss 1.5824\n",
      "step 4000: train loss 0.6121, val loss 1.7052\n",
      "step 4500: train loss 0.4445, val loss 1.8667\n",
      "\n",
      "Et notre Trio de chaume beauté,\n",
      "Quand un chagré beau prochain. Le mari les pourvoir\n",
      "Eut au contraint couruel,\n",
      "Vit ses jours d'un coup.\n",
      "Le voyant est animal, sottis à car qui dans son royaute,\n",
      "Les fit vent de leurs beaux ou n'arrêts une Forêts\n",
      "Ils y crut pour voir admes demeures :\n",
      "Tous virent à son croyanteur s'attirer.\n",
      "Quand ce que logis après se rit, et que lait les façons\n",
      "Et les premier ramples du misérable.\n",
      "Un arbre de Mouton fit au ne point plus que j'aillus.\n",
      "Mais mépris je comme aux pieds d\n"
     ]
    }
   ],
   "source": [
    "%run 8_bigram_scaled.py"
   ]
  },
  {
   "cell_type": "markdown",
   "metadata": {},
   "source": [
    "# Load and run inference on model"
   ]
  },
  {
   "cell_type": "code",
   "execution_count": 2,
   "metadata": {},
   "outputs": [
    {
     "name": "stdout",
     "output_type": "stream",
     "text": [
      "Model loaded from models/lafontaine_gpt_v8_241011_1307.pth.\n",
      "--------------------------------------------------\n",
      "\n",
      "Pallus qu'en des sacrifices de Maximères.\n",
      "Le Dieu les escadrons pour les milles est venus,\n",
      "On se font pris amuser tous les jours déplaire.\n",
      "Philémon les pauvret Baudets\n",
      "Qu'ils n'approchaient leur faire :\n",
      "Car cultait de boire ; ils s'enfuirent gagner.\n",
      "Je vous plains, je te promis, j'en serai par plus monarque des hommes,\n",
      "De femme, ayent de humains, qu'un Maître de l'air,\n",
      "Du restentier et des morts sa main querelle.\n",
      "Le sage qui les mit sont d'en prince le croire ;\n",
      "Et, s'il est aurait venir\n",
      "De ce qu\n"
     ]
    }
   ],
   "source": [
    "%run 8_bigram_scaled.py"
   ]
  }
 ],
 "metadata": {
  "kernelspec": {
   "display_name": "ironhack",
   "language": "python",
   "name": "python3"
  },
  "language_info": {
   "codemirror_mode": {
    "name": "ipython",
    "version": 3
   },
   "file_extension": ".py",
   "mimetype": "text/x-python",
   "name": "python",
   "nbconvert_exporter": "python",
   "pygments_lexer": "ipython3",
   "version": "3.12.7"
  }
 },
 "nbformat": 4,
 "nbformat_minor": 2
}
